{
  "metadata": {
    "kernelspec": {
      "name": "python",
      "display_name": "Python (Pyodide)",
      "language": "python"
    },
    "language_info": {
      "codemirror_mode": {
        "name": "python",
        "version": 3
      },
      "file_extension": ".py",
      "mimetype": "text/x-python",
      "name": "python",
      "nbconvert_exporter": "python",
      "pygments_lexer": "ipython3",
      "version": "3.8"
    }
  },
  "nbformat_minor": 4,
  "nbformat": 4,
  "cells": [
    {
      "cell_type": "markdown",
      "source": "# Classic Algorithms",
      "metadata": {}
    },
    {
      "cell_type": "markdown",
      "source": "## Tasks Today:\n\n1) <b>Intro to Algorithms</b> <br>\n &nbsp;&nbsp;&nbsp;&nbsp; a) What are algorithms <br>\n &nbsp;&nbsp;&nbsp;&nbsp; b) Quick Intro to Big-O Notation <br>\n2) <b>In-Place Algorithms</b> <br>\n &nbsp;&nbsp;&nbsp;&nbsp; a) Syntax <br>\n &nbsp;&nbsp;&nbsp;&nbsp; a) Out of Place Algorithm <br>\n &nbsp;&nbsp;&nbsp;&nbsp; b) In-Class Exercise #1 <br>\n3) <b>Two Pointers</b> <br>\n4) <b>Sorting Algorithms</b> <br>\n5) <b>Merge Sort</b> <br>\n &nbsp;&nbsp;&nbsp;&nbsp; a) Video on Algorithms <br>\n &nbsp;&nbsp;&nbsp;&nbsp; b) How it Works <br>\n6) <b>Exercises</b> <br>\n &nbsp;&nbsp;&nbsp;&nbsp; a) Exercise #1 - Reverse a List in Place Using an In-Place Algorithm <br>\n &nbsp;&nbsp;&nbsp;&nbsp; b) Exercise #2 - Find Distinct Words <br>\n &nbsp;&nbsp;&nbsp;&nbsp; c) Exercise #3 - Write a program to implement a Linear Search Algorithm. <br>",
      "metadata": {}
    },
    {
      "cell_type": "markdown",
      "source": "## Intro to Algorithms",
      "metadata": {}
    },
    {
      "cell_type": "markdown",
      "source": "#### What is an algorithm",
      "metadata": {}
    },
    {
      "cell_type": "markdown",
      "source": "- An algorithm is a set of instructions for solving a problem \n- Algorithms are used to solve all types of problems such as sorting data and searching for information\n- Being able to write efficient algorithms is an important part of being a computer programmer",
      "metadata": {}
    },
    {
      "cell_type": "markdown",
      "source": "#### Quick Intro to Big O Notation",
      "metadata": {}
    },
    {
      "cell_type": "markdown",
      "source": "Time and space complexity is the measure of how much time a given action(function) will take to solve a problem. In the same fashion, we determine how much a given data structure will need in terms of memory allocation. A problem can have multiple solutions and finding the optimal solution for the problem needs to be analyzed in time and space.\n<br>\nSee more <a href=\"https://zippy-lan-200.notion.site/Intro-to-Time-Complexity-ae4a9c7dbefb4b9f9351ade7a2b2fa72\">here</a>",
      "metadata": {}
    },
    {
      "cell_type": "markdown",
      "source": "## In-Place Algorithms",
      "metadata": {}
    },
    {
      "cell_type": "markdown",
      "source": "#### Syntax",
      "metadata": {}
    },
    {
      "cell_type": "code",
      "source": "my_list = [1, 2, 3, 4, 5, 6]\n",
      "metadata": {},
      "execution_count": 1,
      "outputs": []
    },
    {
      "cell_type": "code",
      "source": "def swap(a_list, index1, index2):\n    temp = a_list[index1]\n    a_list[index1] = a_list[index2]\n    a_list[index2] = temp\n    return a_list\n\n\nswap(my_list, 1, 4)",
      "metadata": {},
      "execution_count": 2,
      "outputs": [
        {
          "execution_count": 2,
          "output_type": "execute_result",
          "data": {
            "text/plain": [
              "[1, 5, 3, 4, 2, 6]"
            ]
          },
          "metadata": {}
        }
      ]
    },
    {
      "cell_type": "code",
      "source": "# a_list[a], a_list[b] = a_list[b], a_list[a]\nmy_list = [1, 2, 3, 4, 5, 6]\ndef swap(a_list, index1, index2):\n    a_list[index1], a_list[index2] = a_list[index2], a_list[index1]\n    return a_list\n\nprint('Before:', my_list)\nswap(my_list, 1, 4)\nprint('After:', my_list)",
      "metadata": {},
      "execution_count": 3,
      "outputs": [
        {
          "name": "stdout",
          "output_type": "stream",
          "text": "Before: [1, 2, 3, 4, 5, 6]\n\nAfter: [1, 5, 3, 4, 2, 6]\n"
        }
      ]
    },
    {
      "cell_type": "code",
      "source": "print(my_list)",
      "metadata": {},
      "execution_count": 4,
      "outputs": [
        {
          "name": "stdout",
          "output_type": "stream",
          "text": "[1, 5, 3, 4, 2, 6]\n"
        }
      ]
    },
    {
      "cell_type": "markdown",
      "source": "#### Out of Place Algorithm",
      "metadata": {}
    },
    {
      "cell_type": "code",
      "source": "def out_of_place_swap(a_list, index1, index2):\n    new_list = a_list[:]\n    new_list[index1] = a_list[index2]\n    new_list[index2] = a_list[index1]\n    return new_list\n\n\nmy_list = [1, 2, 3, 4, 5, 6]\n\nprint('Before:', my_list)\nmy_new_list = out_of_place_swap(my_list, 1, 4)\nprint('After:', my_list)\nprint('My New List:', my_new_list)",
      "metadata": {
        "scrolled": true
      },
      "execution_count": 5,
      "outputs": [
        {
          "name": "stdout",
          "output_type": "stream",
          "text": "Before: [1, 2, 3, 4, 5, 6]\n\nAfter: [1, 2, 3, 4, 5, 6]\n\nMy New List: [1, 5, 3, 4, 2, 6]\n"
        }
      ]
    },
    {
      "cell_type": "code",
      "source": "unsorted_list = [3, 8, 23, 6, 1, 6, 2]\n\nprint('Before', unsorted_list)\nunsorted_list.sort()\nprint('After', unsorted_list)",
      "metadata": {},
      "execution_count": 6,
      "outputs": [
        {
          "name": "stdout",
          "output_type": "stream",
          "text": "Before [3, 8, 23, 6, 1, 6, 2]\n\nAfter [1, 2, 3, 6, 6, 8, 23]\n"
        }
      ]
    },
    {
      "cell_type": "code",
      "source": "unsorted_list = [3, 8, 23, 6, 1, 6, 2]\n\nprint('Before', unsorted_list)\nsorted_list = sorted(unsorted_list)\nprint('After', unsorted_list)\nprint(sorted_list)",
      "metadata": {
        "scrolled": true
      },
      "execution_count": 7,
      "outputs": [
        {
          "name": "stdout",
          "output_type": "stream",
          "text": "Before [3, 8, 23, 6, 1, 6, 2]\n\nAfter [3, 8, 23, 6, 1, 6, 2]\n\n[1, 2, 3, 6, 6, 8, 23]\n"
        }
      ]
    },
    {
      "cell_type": "markdown",
      "source": "#### In-Class Exercise #1 <br>\n<p>Write a function that takes in four arguments (a_list, index1, index2, index3), and swaps those three positions in the list passed in.</p>",
      "metadata": {}
    },
    {
      "cell_type": "code",
      "source": "",
      "metadata": {},
      "execution_count": null,
      "outputs": []
    },
    {
      "cell_type": "markdown",
      "source": "## Two Pointers",
      "metadata": {}
    },
    {
      "cell_type": "markdown",
      "source": "#### Syntax",
      "metadata": {}
    },
    {
      "cell_type": "code",
      "source": "def swap_with_pointers(a_list):\n    # Create two variables to point to the index we are wanting to swap\n    left = 0 # first element in the list\n    right = len(a_list) - 1 # last element in the list\n    while left < right:\n        a_list[left], a_list[right] = a_list[right], a_list[left]\n        left += 1\n        right -= 1\n    return a_list\n\n\nmy_list2 = [1, 2, 3, 4, 5, 6, 7, 8, 9, 10]\n\nswap_with_pointers(my_list2)",
      "metadata": {},
      "execution_count": 8,
      "outputs": [
        {
          "execution_count": 8,
          "output_type": "execute_result",
          "data": {
            "text/plain": [
              "[10, 9, 8, 7, 6, 5, 4, 3, 2, 1]"
            ]
          },
          "metadata": {}
        }
      ]
    },
    {
      "cell_type": "code",
      "source": "print(my_list2)",
      "metadata": {},
      "execution_count": 9,
      "outputs": [
        {
          "name": "stdout",
          "output_type": "stream",
          "text": "[10, 9, 8, 7, 6, 5, 4, 3, 2, 1]\n"
        }
      ]
    },
    {
      "cell_type": "markdown",
      "source": "# Sorting Algorithms",
      "metadata": {}
    },
    {
      "cell_type": "code",
      "source": "import random\n\nlist_to_sort = [random.randint(1,100) for _ in range(10)]\nprint(list_to_sort)",
      "metadata": {},
      "execution_count": 10,
      "outputs": [
        {
          "name": "stdout",
          "output_type": "stream",
          "text": "[9, 25, 62, 70, 66, 71, 72, 1, 56, 82]\n"
        }
      ]
    },
    {
      "cell_type": "markdown",
      "source": "#### Bubble Sort\n\nWorst Case: O(n^2) Time - O(1) Space",
      "metadata": {}
    },
    {
      "cell_type": "code",
      "source": "def bubble_sort(lst):\n    # When we first start, assume the list is unsorted\n    is_sorted = False\n    # while the list is unsorted, loop through and bubble largest to top\n    while not is_sorted:\n        # Begin the for loop with the assumption that the list is sorted\n        is_sorted = True\n        for idx in range(len(lst) - 1):\n            # if the list at index idx is greater than the value to its right\n             if lst[idx] > lst[idx+1]:\n                # swap those two values\n                lst[idx], lst[idx+1] = lst[idx+1], lst[idx]\n                # if we have to to any swaps, say that our list is actually not sorted\n                is_sorted = False\n        \n    return lst\n        \nbubble_sort(list_to_sort)",
      "metadata": {},
      "execution_count": 11,
      "outputs": [
        {
          "execution_count": 11,
          "output_type": "execute_result",
          "data": {
            "text/plain": [
              "[1, 9, 25, 56, 62, 66, 70, 71, 72, 82]"
            ]
          },
          "metadata": {}
        }
      ]
    },
    {
      "cell_type": "markdown",
      "source": "##### Insertion Sort\n\nWorst Case: O(n^2) time - O(1)space",
      "metadata": {}
    },
    {
      "cell_type": "code",
      "source": "list_to_sort = [random.randint(1,100) for _ in range(10)]\nprint(list_to_sort)",
      "metadata": {},
      "execution_count": 12,
      "outputs": [
        {
          "name": "stdout",
          "output_type": "stream",
          "text": "[69, 3, 65, 29, 24, 59, 59, 11, 87, 56]\n"
        }
      ]
    },
    {
      "cell_type": "code",
      "source": "def insertion_sort(lst):\n    # Loop over the unordered section (start at 1 because 0-index is \"sorted\")\n    for i in range(1, len(lst)):\n        # While we're not at the front of the list and the element to the left is less than our element\n        while i > 0 and lst[i] < lst[i-1]:\n            # swap our element with the element to its left\n            lst[i], lst[i-1] = lst[i-1], lst[i]\n            # move our pointer left one element (to match the new swap)\n            i -= 1\n    return lst\n\n\n\ninsertion_sort(list_to_sort)",
      "metadata": {},
      "execution_count": 13,
      "outputs": [
        {
          "execution_count": 13,
          "output_type": "execute_result",
          "data": {
            "text/plain": [
              "[3, 11, 24, 29, 56, 59, 59, 65, 69, 87]"
            ]
          },
          "metadata": {}
        }
      ]
    },
    {
      "cell_type": "markdown",
      "source": "## Merge Sort",
      "metadata": {}
    },
    {
      "cell_type": "markdown",
      "source": "#### How it Works",
      "metadata": {}
    },
    {
      "cell_type": "code",
      "source": "list_to_sort = [random.randint(1,100) for _ in range(10)]\nprint(list_to_sort)",
      "metadata": {},
      "execution_count": 14,
      "outputs": [
        {
          "name": "stdout",
          "output_type": "stream",
          "text": "[21, 28, 87, 28, 96, 6, 1, 54, 63, 5]\n"
        }
      ]
    },
    {
      "cell_type": "code",
      "source": "def merge_sort(lst):\n    if len(lst) > 1:\n        # Find the midway point of the list\n        mid = len(lst) // 2\n        print('Splitting...', lst)\n        left_half = lst[:mid]\n        right_half = lst[mid:]\n        \n        merge_sort(left_half)\n        merge_sort(right_half)\n        \n        # index pointers for our lists\n        l = 0 # pointer for left half list\n        r = 0 # pointer for right half list\n        m = 0 # pointer for main list\n        \n        while l < len(left_half) and r < len(right_half):\n            if left_half[l] < right_half[r]:\n                lst[m] = left_half[l]\n                l += 1\n            else:\n                lst[m] = right_half[r]\n                r += 1\n            m += 1\n       \n        while l < len(left_half):\n            lst[m] = left_half[l]\n            l += 1\n            m += 1\n            \n        while r < len(right_half):\n            lst[m] = right_half[r]\n            r += 1\n            m += 1\n        \n    print('Merging...', lst)\n    return lst\n\n\nmerge_sort(list_to_sort)",
      "metadata": {},
      "execution_count": 15,
      "outputs": [
        {
          "name": "stdout",
          "output_type": "stream",
          "text": "Splitting... [21, 28, 87, 28, 96, 6, 1, 54, 63, 5]\n\nSplitting... [21, 28, 87, 28, 96]\n\nSplitting... [21, 28]\n\nMerging... [21]\n\nMerging... [28]\n\nMerging... [21, 28]\n\nSplitting... [87, 28, 96]\n\nMerging... [87]\n\nSplitting... [28, 96]\n\nMerging... [28]\n\nMerging... [96]\n\nMerging... [28, 96]\n\nMerging... [28, 87, 96]\n\nMerging... [21, 28, 28, 87, 96]\n\nSplitting... [6, 1, 54, 63, 5]\n\nSplitting... [6, 1]\n\nMerging... [6]\n\nMerging... [1]\n\nMerging... [1, 6]\n\nSplitting... [54, 63, 5]\n\nMerging... [54]\n\nSplitting... [63, 5]\n\nMerging... [63]\n\nMerging... [5]\n\nMerging... [5, 63]\n\nMerging... [5, 54, 63]\n\nMerging... [1, 5, 6, 54, 63]\n\nMerging... [1, 5, 6, 21, 28, 28, 54, 63, 87, 96]\n"
        },
        {
          "execution_count": 15,
          "output_type": "execute_result",
          "data": {
            "text/plain": [
              "[1, 5, 6, 21, 28, 28, 54, 63, 87, 96]"
            ]
          },
          "metadata": {}
        }
      ]
    },
    {
      "cell_type": "markdown",
      "source": "# Binary Search\n\nThe Binary Search algorithm works by finding the number in the middle of a given array and comparing it to the target. **Given that the array is sorted**\n\n* The worst case run time for this algorithm is `O(log(n))`",
      "metadata": {}
    },
    {
      "cell_type": "code",
      "source": "# Less == Left\n# Greater == Right\n# List of numbers MUST be sorted\n\ndef binary_search(lst, target):\n    low = 0 \n    high = len(lst) - 1\n    while low <= high:\n        mid = (low + high) // 2\n        if target == lst[mid]:\n            return f\"The index for {target} is {mid}\"\n        elif target < lst[mid]:\n            high = mid - 1\n        else:\n            low = mid + 1\n    return -1\n\n\nbinary_search([13, 20, 33, 38, 44, 56, 77, 98], 44)",
      "metadata": {},
      "execution_count": 16,
      "outputs": [
        {
          "execution_count": 16,
          "output_type": "execute_result",
          "data": {
            "text/plain": [
              "'The index for 44 is 4'"
            ]
          },
          "metadata": {}
        }
      ]
    },
    {
      "cell_type": "markdown",
      "source": "# Exercises",
      "metadata": {}
    },
    {
      "cell_type": "markdown",
      "source": "### Exercise #1 <br>\n<p>Write a function that takes a list of integers and returns the median value</p>",
      "metadata": {}
    },
    {
      "cell_type": "code",
      "source": "# The middle will be even, check even by modulo 2 \ndef find_median(arr):\n    arr.sort()\n    i = len(arr)\n\n    if i% 2 == 0:\n        middle1 = arr[i // 2]\n        middle2 = arr[i // 2 - 1]\n        median = (middle1 + middle2) / 2\n    else:\n        median = arr[i// 2]\n\n    return median\n",
      "metadata": {},
      "execution_count": null,
      "outputs": []
    },
    {
      "cell_type": "markdown",
      "source": "### Exercise #2 <br>\n<p>Create a function that counts how many distinct words are in the string below, then outputs a dictionary with the words as the key and the value as the amount of times that word appears in the string.</p>\nExample Output:<code>{'in': 1, 'computing': 1, 'a': 5, ...}</code>",
      "metadata": {}
    },
    {
      "cell_type": "code",
      "source": "# Split strings and remove empty space and periods and commas by stripping, incremement word count by one\ndef count_distinct_words(text):\n    words = text.split()\n    word_count = {}\n\n    for word in words:\n        word = word.strip(\",.\").lower()\n\n        if word in word_count:\n            word_count[word] += 1\n        else:\n            word_count[word] = 1\n\n    return word_count\n\na_text = 'In computing, a hash table hash map is a data structure which implements an associative array abstract data type, a structure that can map keys to values. A hash table uses a hash function to compute an index into an array of buckets or slots from which the desired value can be found'\n",
      "metadata": {},
      "execution_count": 17,
      "outputs": []
    },
    {
      "cell_type": "markdown",
      "source": "## Exercise #3\n\nWrite a function implementing a Linear Search Algorithm. A linear search is a method for finding an element within a list. It sequentially checks each element of the list until a match is found or the whole list has been searched. If you do not find a match, return -1",
      "metadata": {}
    },
    {
      "cell_type": "code",
      "source": "# I need to do more research on linear search algorithms ",
      "metadata": {},
      "execution_count": null,
      "outputs": []
    }
  ]
}